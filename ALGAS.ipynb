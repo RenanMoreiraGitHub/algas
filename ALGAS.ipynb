{
 "cells": [
  {
   "attachments": {},
   "cell_type": "markdown",
   "metadata": {},
   "source": [
    "### Passar por cada range somando os valores resultantes e em seguida descrementando o mesmo valor, isso gerou as transações.\n",
    "\n",
    "### Feito isso em cada range, iremos coletar as infos de memoria e tempo e plotar em um grafico as diferenças."
   ]
  },
  {
   "cell_type": "code",
   "execution_count": 2,
   "metadata": {},
   "outputs": [
    {
     "name": "stdout",
     "output_type": "stream",
     "text": [
      "[100010, 200010, 300010, 400010, 500010]\n",
      "[1010, 1110, 1210, 1310, 1410, 1510, 1610, 1710, 1810, 1910, 2010, 2110, 2210, 2310, 2410, 2510, 2610, 2710, 2810, 2910, 3010, 3110, 3210, 3310, 3410, 3510, 3610, 3710, 3810, 3910, 4010, 4110, 4210, 4310, 4410, 4510, 4610, 4710, 4810, 4910, 5010, 5110, 5210, 5310, 5410, 5510, 5610, 5710, 5810, 5910]\n",
      "[110, 210, 310, 410, 510]\n",
      "[20, 30, 40, 50, 60]\n",
      "[1000010, 2000010, 3000010, 4000010, 5000010]\n"
     ]
    }
   ],
   "source": [
    "def transaction(bloco):\n",
    "    for i in range(0,len(bloco)):\n",
    "        bloco[i] = bloco[i]+10\n",
    "\n",
    "    return bloco\n",
    "\n",
    "bloco_a = [x for x in range(100000, 600000, 100000)]\n",
    "\n",
    "bloco_b = [x for x in range(1000, 6000, 100)]\n",
    "\n",
    "bloco_c = [x for x in range(100, 600, 100)]\n",
    "\n",
    "bloco_d = [x for x in range(10, 60, 10)]\n",
    "\n",
    "bloco_e = [x for x in range(1000000, 6000000, 1000000)]\n",
    "\n",
    "blocos = [bloco_a, bloco_b, bloco_c, bloco_d, bloco_e]\n",
    "\n",
    "for i in range(0,len(blocos)):\n",
    "    blocos[i] = transaction(blocos[i])\n",
    "    print(blocos[i])"
   ]
  },
  {
   "cell_type": "code",
   "execution_count": 9,
   "metadata": {},
   "outputs": [
    {
     "name": "stdout",
     "output_type": "stream",
     "text": [
      "[100000, 200000, 300000, 400000, 500000, 600000, 500000, 400000, 300000, 200000]\n",
      "\n",
      "\n",
      "\n",
      "[1000, 1100, 1200, 1300, 1400, 1500, 1600, 1700, 1800, 1900, 2000, 2100, 2200, 2300, 2400, 2500, 2600, 2700, 2800, 2900, 3000, 3100, 3200, 3300, 3400, 3500, 3600, 3700, 3800, 3900, 4000, 4100, 4200, 4300, 4400, 4500, 4600, 4700, 4800, 4900, 5000, 5100, 5200, 5300, 5400, 5500, 5600, 5700, 5800, 5900, 6000, 5900, 5800, 5700, 5600, 5500, 5400, 5300, 5200, 5100, 5000, 4900, 4800, 4700, 4600, 4500, 4400, 4300, 4200, 4100, 4000, 3900, 3800, 3700, 3600, 3500, 3400, 3300, 3200, 3100, 3000, 2900, 2800, 2700, 2600, 2500, 2400, 2300, 2200, 2100, 2000, 1900, 1800, 1700, 1600, 1500, 1400, 1300, 1200, 1100]\n",
      "\n",
      "\n",
      "\n",
      "[100, 200, 300, 400, 500, 600, 500, 400, 300, 200]\n",
      "\n",
      "\n",
      "\n",
      "[10, 20, 30, 40, 50, 60, 50, 40, 30, 20]\n",
      "\n",
      "\n",
      "\n",
      "[1000000, 2000000, 3000000, 4000000, 5000000, 6000000, 5000000, 4000000, 3000000, 2000000]\n"
     ]
    }
   ],
   "source": [
    "def transaction(bloco):\n",
    "    array = []\n",
    "    num = 0\n",
    "    for i in range(bloco['inicial'],bloco['final'],bloco['step']):\n",
    "        array.append(num+i)\n",
    "    \n",
    "    for i in range(bloco['final'],bloco['inicial'],-bloco['step']):\n",
    "        array.append(num+i)\n",
    "\n",
    "    return array\n",
    "\n",
    "bloco_a = {\n",
    "    \"inicial\": 100_000,\n",
    "    \"final\": 600_000,\n",
    "    \"step\": 100_000\n",
    "}\n",
    "\n",
    "bloco_b = {\n",
    "    \"inicial\": 1_000,\n",
    "    \"final\": 6_000,\n",
    "    \"step\": 100\n",
    "}\n",
    "\n",
    "bloco_c = {\n",
    "    \"inicial\": 100,\n",
    "    \"final\": 600,\n",
    "    \"step\": 100\n",
    "}\n",
    "\n",
    "bloco_d = {\n",
    "    \"inicial\": 10,\n",
    "    \"final\": 60,\n",
    "    \"step\": 10\n",
    "}\n",
    "\n",
    "bloco_e = {\n",
    "    \"inicial\": 1_000_000,\n",
    "    \"final\": 6_000_000,\n",
    "    \"step\": 1_000_000\n",
    "}\n",
    "\n",
    "test_a = transaction(bloco_a)\n",
    "print(test_a)\n",
    "print(\"\\n\\n\")\n",
    "test_b = transaction(bloco_b)\n",
    "print(test_b)\n",
    "print(\"\\n\\n\")\n",
    "test_c = transaction(bloco_c)\n",
    "print(test_c)\n",
    "print(\"\\n\\n\")\n",
    "test_d = transaction(bloco_d)\n",
    "print(test_d)\n",
    "print(\"\\n\\n\")\n",
    "test_e = transaction(bloco_e)\n",
    "print(test_e)"
   ]
  }
 ],
 "metadata": {
  "kernelspec": {
   "display_name": "Python 3 (ipykernel)",
   "language": "python",
   "name": "python3"
  },
  "language_info": {
   "codemirror_mode": {
    "name": "ipython",
    "version": 3
   },
   "file_extension": ".py",
   "mimetype": "text/x-python",
   "name": "python",
   "nbconvert_exporter": "python",
   "pygments_lexer": "ipython3",
   "version": "3.8.10"
  },
  "orig_nbformat": 4,
  "vscode": {
   "interpreter": {
    "hash": "916dbcbb3f70747c44a77c7bcd40155683ae19c65e1c03b4aa3499c5328201f1"
   }
  }
 },
 "nbformat": 4,
 "nbformat_minor": 2
}
