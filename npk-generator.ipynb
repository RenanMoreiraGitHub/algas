{
 "cells": [
  {
   "cell_type": "code",
   "execution_count": 17,
   "metadata": {},
   "outputs": [],
   "source": [
    "import random\n",
    "import time\n",
    "\n",
    "dados_n = [];\n",
    "dados_p = [];\n",
    "dados_k = [];\n",
    "dados_nivel_fertil = [];\n",
    "\n",
    "def gerar_dados(min_value, max_value, step):\n",
    "\n",
    "    while True:\n",
    "        for dado in range(min_value, max_value+1, step):\n",
    "            time.sleep(0.5)\n",
    "            dado_n = random.randint(60, 251)\n",
    "            dado_p = random.randint(5, 61)\n",
    "            dado_k = random.randint(50, 301)\n",
    "\n",
    "            if dado_n >= 150 and dado_p >= 40 and dado_k >= 200:\n",
    "                nivel_fertil = 'Fértil'\n",
    "            elif (dado_n >= 120 and dado_n < 150) and (dado_p >= 20 and dado_p < 40) and (dado_k >= 150 and dado_k < 200):\n",
    "                nivel_fertil = 'Média a alta fertilidade'\n",
    "            elif (dado_n >= 90 and dado_n < 120) and (dado_p >= 10 and dado_p < 20) and (dado_k >= 100 and dado_k < 150):\n",
    "                nivel_fertil = 'Médio de fertilidade'\n",
    "            else:\n",
    "                nivel_fertil = 'Falta de fertilizantes'\n",
    "\n",
    "            dados_n.append(dado_n)\n",
    "            dados_p.append(dado_p)\n",
    "            dados_k.append(dado_k)\n",
    "            dados_nivel_fertil.append(nivel_fertil)\n",
    "\n",
    "            print(dado_n, dado_p, dado_k, nivel_fertil)\n"
   ]
  },
  {
   "cell_type": "code",
   "execution_count": null,
   "metadata": {},
   "outputs": [],
   "source": [
    "gerar_dados(1, 100, 1)"
   ]
  }
 ],
 "metadata": {
  "kernelspec": {
   "display_name": "Python 3",
   "language": "python",
   "name": "python3"
  },
  "language_info": {
   "codemirror_mode": {
    "name": "ipython",
    "version": 3
   },
   "file_extension": ".py",
   "mimetype": "text/x-python",
   "name": "python",
   "nbconvert_exporter": "python",
   "pygments_lexer": "ipython3",
   "version": "3.9.6"
  },
  "orig_nbformat": 4
 },
 "nbformat": 4,
 "nbformat_minor": 2
}
